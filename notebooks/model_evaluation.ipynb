{
 "cells": [
  {
   "cell_type": "markdown",
   "metadata": {},
   "source": [
    "# Model Evaluation"
   ]
  },
  {
   "cell_type": "markdown",
   "metadata": {},
   "source": [
    "## Imports"
   ]
  },
  {
   "cell_type": "code",
   "execution_count": 1,
   "metadata": {},
   "outputs": [],
   "source": [
    "from sklearn.metrics import f1_score, precision_score, accuracy_score, recall_score\n",
    "from src.model import DistilBertForClassification\n",
    "from transformers import DistilBertTokenizer\n",
    "from pathlib import Path\n",
    "from tqdm import tqdm\n",
    "import pandas as pd\n",
    "import torch\n",
    "\n",
    "tqdm.pandas()"
   ]
  },
  {
   "cell_type": "markdown",
   "metadata": {},
   "source": [
    "## Functions"
   ]
  },
  {
   "cell_type": "code",
   "execution_count": 2,
   "metadata": {},
   "outputs": [],
   "source": [
    "def get_predictions(model, tokenizer, input_text, classes):\n",
    "    inputs = tokenizer(\n",
    "        input_text, return_tensors=\"pt\", padding=True, truncation=True, max_length=512\n",
    "    )\n",
    "    with torch.no_grad():\n",
    "        pred = model(inputs[\"input_ids\"], inputs[\"attention_mask\"])\n",
    "\n",
    "    return torch.argmax(pred, dim=1).item()"
   ]
  },
  {
   "cell_type": "markdown",
   "metadata": {},
   "source": [
    "## Initial Variables"
   ]
  },
  {
   "cell_type": "code",
   "execution_count": null,
   "metadata": {},
   "outputs": [],
   "source": [
    "model_path = Path(\n",
    "    \"..\", \"data\", \"models\", \"Amazon_Product_Classifier.pth\"\n",
    ")\n",
    "dataset_path = Path(\"..\", \"data\", \"datasets\", \"test.csv\")\n",
    "device = torch.device(\"cuda\" if torch.cuda.is_available() else \"mps\" if torch.backends.mps.is_available() else \"cpu\")\n",
    "model_path, dataset_path, device"
   ]
  },
  {
   "cell_type": "markdown",
   "metadata": {},
   "source": [
    "### Classes"
   ]
  },
  {
   "cell_type": "code",
   "execution_count": 4,
   "metadata": {},
   "outputs": [],
   "source": [
    "classes = [\n",
    "    \"All Electronics\",\n",
    "    \"Amazon Fashion\",\n",
    "    \"Amazon Home\",\n",
    "    \"Arts, Crafts & Sewing\",\n",
    "    \"Automotive\",\n",
    "    \"Books\",\n",
    "    \"Camera & Photo\",\n",
    "    \"Cell Phones & Accessories\",\n",
    "    \"Computers\",\n",
    "    \"Digital Music\",\n",
    "    \"Grocery\",\n",
    "    \"Health & Personal Care\",\n",
    "    \"Home Audio & Theater\",\n",
    "    \"Industrial & Scientific\",\n",
    "    \"Movies & TV\",\n",
    "    \"Musical Instruments\",\n",
    "    \"Office Products\",\n",
    "    \"Pet Supplies\",\n",
    "    \"Sports & Outdoors\",\n",
    "    \"Tools & Home Improvement\",\n",
    "    \"Toys & Games\",\n",
    "    \"Video Games\",\n",
    "]"
   ]
  },
  {
   "cell_type": "markdown",
   "metadata": {},
   "source": [
    "### Dataset Load"
   ]
  },
  {
   "cell_type": "code",
   "execution_count": null,
   "metadata": {},
   "outputs": [],
   "source": [
    "df = pd.read_csv(dataset_path)\n",
    "df"
   ]
  },
  {
   "cell_type": "markdown",
   "metadata": {},
   "source": [
    "### Define Model and Tokenizer"
   ]
  },
  {
   "cell_type": "code",
   "execution_count": null,
   "metadata": {},
   "outputs": [],
   "source": [
    "model = DistilBertForClassification(num_classes=22)\n",
    "tokenizer = DistilBertTokenizer.from_pretrained(\"distilbert-base-uncased\")\n",
    "\n",
    "model.load_state_dict(torch.load(model_path, map_location=torch.device(device)))\n",
    "model.eval()\n"
   ]
  },
  {
   "cell_type": "markdown",
   "metadata": {},
   "source": [
    "## Prepare data"
   ]
  },
  {
   "cell_type": "code",
   "execution_count": null,
   "metadata": {},
   "outputs": [],
   "source": [
    "df[\"predictions\"] = df[\"feature_concat\"].progress_apply(\n",
    "    lambda x: get_predictions(model, tokenizer, x, classes)\n",
    ")\n",
    "df"
   ]
  },
  {
   "cell_type": "markdown",
   "metadata": {},
   "source": [
    "### Calculate Metrics"
   ]
  },
  {
   "cell_type": "code",
   "execution_count": null,
   "metadata": {},
   "outputs": [],
   "source": [
    "y_true = df[\"main_cat\"]\n",
    "y_pred = df[\"predictions\"]\n",
    "\n",
    "accuracy = accuracy_score(y_true, y_pred)\n",
    "precision = precision_score(y_true, y_pred, average=\"weighted\")\n",
    "recall = recall_score(y_true, y_pred, average=\"weighted\")\n",
    "f1 = f1_score(y_true, y_pred, average=\"weighted\")\n",
    "\n",
    "print(\n",
    "    f\"Accuracy: {accuracy*100:2f}%, Precision: {precision*100:2f}%, Recall: {recall*100:2f}%, F1: {f1*100:2f}%\\n\\n\"\n",
    ")"
   ]
  }
 ],
 "metadata": {
  "kernelspec": {
   "display_name": "Fever-Oa-8i0ZO",
   "language": "python",
   "name": "python3"
  },
  "language_info": {
   "codemirror_mode": {
    "name": "ipython",
    "version": 3
   },
   "file_extension": ".py",
   "mimetype": "text/x-python",
   "name": "python",
   "nbconvert_exporter": "python",
   "pygments_lexer": "ipython3",
   "version": "3.11.11"
  }
 },
 "nbformat": 4,
 "nbformat_minor": 2
}
