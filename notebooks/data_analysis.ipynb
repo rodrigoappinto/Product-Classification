{
 "cells": [
  {
   "cell_type": "markdown",
   "metadata": {},
   "source": [
    "# Data Analysis"
   ]
  },
  {
   "cell_type": "markdown",
   "metadata": {},
   "source": [
    "This notebook aims to analyze data and understand how it's distributed."
   ]
  },
  {
   "cell_type": "markdown",
   "metadata": {},
   "source": [
    "## Imports"
   ]
  },
  {
   "cell_type": "code",
   "execution_count": 1,
   "metadata": {},
   "outputs": [],
   "source": [
    "import matplotlib.pyplot as plt\n",
    "import seaborn as sns\n",
    "import pandas as pd"
   ]
  },
  {
   "cell_type": "markdown",
   "metadata": {},
   "source": [
    "## Analysis"
   ]
  },
  {
   "cell_type": "markdown",
   "metadata": {},
   "source": [
    "### Data Load"
   ]
  },
  {
   "cell_type": "code",
   "execution_count": null,
   "metadata": {},
   "outputs": [],
   "source": [
    "file_path = \"../data/datasets/Amazon_data.jsonl\"\n",
    "df = pd.read_json(file_path, lines=True)\n",
    "df = df.groupby(\"main_cat\", group_keys=False).apply(\n",
    "    lambda x: x.sample(frac=0.10, random_state=42)\n",
    ")\n",
    "df = df.drop(columns=[\"image\", \"category\"])\n",
    "df"
   ]
  },
  {
   "cell_type": "code",
   "execution_count": null,
   "metadata": {},
   "outputs": [],
   "source": [
    "(df[\"brand\"].apply(len) == 0).sum()"
   ]
  },
  {
   "cell_type": "code",
   "execution_count": 4,
   "metadata": {},
   "outputs": [],
   "source": [
    "df[\"brand\"] = df[\"brand\"].apply(lambda x: \"Brand Missing\" if len(x) == 0 else x)\n",
    "df[\"feature\"] = df[\"feature\"].apply(lambda x: [\"Feature Missing\"] if len(x) == 0 else x)\n",
    "df[\"title\"] = df[\"title\"].apply(lambda x: \"Title Missing\" if len(x) == 0 else x)"
   ]
  },
  {
   "cell_type": "code",
   "execution_count": null,
   "metadata": {},
   "outputs": [],
   "source": [
    "(df[\"brand\"].apply(len) == 0).sum()"
   ]
  },
  {
   "cell_type": "code",
   "execution_count": null,
   "metadata": {},
   "outputs": [],
   "source": [
    "df"
   ]
  },
  {
   "cell_type": "markdown",
   "metadata": {},
   "source": [
    "### Data Plotting"
   ]
  },
  {
   "cell_type": "code",
   "execution_count": null,
   "metadata": {},
   "outputs": [],
   "source": [
    "sns.histplot(\n",
    "    y=df[\"main_cat\"], discrete=True, shrink=0.8, edgecolor=\"white\", linewidth=0.5\n",
    ")\n",
    "plt.xlabel(\"Category\")\n",
    "plt.ylabel(\"Class Count\")\n",
    "plt.title(\"Histogram of Category Values\")\n",
    "plt.show()"
   ]
  },
  {
   "cell_type": "markdown",
   "metadata": {},
   "source": [
    "### Data Save"
   ]
  },
  {
   "cell_type": "code",
   "execution_count": 8,
   "metadata": {},
   "outputs": [],
   "source": [
    "filtered_df = df[[\"brand\", \"description\", \"feature\", \"title\", \"main_cat\"]].reset_index(\n",
    "    drop=True\n",
    ")\n",
    "filtered_df.to_csv(\"../data/datasets/new_filtered_amazon_data.csv\", index=False)"
   ]
  }
 ],
 "metadata": {
  "kernelspec": {
   "display_name": "Fever-Oa-8i0ZO",
   "language": "python",
   "name": "python3"
  },
  "language_info": {
   "codemirror_mode": {
    "name": "ipython",
    "version": 3
   },
   "file_extension": ".py",
   "mimetype": "text/x-python",
   "name": "python",
   "nbconvert_exporter": "python",
   "pygments_lexer": "ipython3",
   "version": "3.11.11"
  }
 },
 "nbformat": 4,
 "nbformat_minor": 2
}
